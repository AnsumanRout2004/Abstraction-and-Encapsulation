{
 "cells": [
  {
   "cell_type": "code",
   "execution_count": null,
   "id": "f662fa53-1141-4cb5-bf53-6a8d9db60009",
   "metadata": {},
   "outputs": [],
   "source": [
    "Q1. What is Abstraction in OOPs? Explain with an example."
   ]
  },
  {
   "cell_type": "code",
   "execution_count": 2,
   "id": "2f7b8a1f-90bc-4bce-ac03-262423795a9d",
   "metadata": {},
   "outputs": [
    {
     "name": "stdout",
     "output_type": "stream",
     "text": [
      "Car starts with a key\n",
      "Bike starts with a self-start button\n"
     ]
    }
   ],
   "source": [
    "#Abstraction is the process of hiding the implementation details and exposing only the essential features of an object. It helps in reducing complexity and increasing code reusability.\n",
    "\n",
    "#Example\n",
    "\n",
    "from abc import ABC, abstractmethod\n",
    "\n",
    "class Vehicle(ABC):  # Abstract class\n",
    "    @abstractmethod\n",
    "    def start(self):\n",
    "        pass  # Abstract method (no implementation)\n",
    "\n",
    "class Car(Vehicle):\n",
    "    def start(self):\n",
    "        print(\"Car starts with a key\")\n",
    "\n",
    "class Bike(Vehicle):\n",
    "    def start(self):\n",
    "        print(\"Bike starts with a self-start button\")\n",
    "\n",
    "# Creating objects of subclasses\n",
    "car = Car()\n",
    "bike = Bike()\n",
    "\n",
    "car.start()  # Output: Car starts with a key\n",
    "bike.start()  # Output: Bike starts with a self-start button\n",
    "\n",
    "#Here, Vehicle is an abstract class, and the start() method is defined in the subclasses but not in the abstract class. This ensures that every vehicle must implement the start() method.\n"
   ]
  },
  {
   "cell_type": "code",
   "execution_count": null,
   "id": "e8686d18-cd64-44f0-b112-ea361663e802",
   "metadata": {},
   "outputs": [],
   "source": [
    "Q2. Differentiate between Abstraction and Encapsulation. Explain with an example."
   ]
  },
  {
   "cell_type": "code",
   "execution_count": 6,
   "id": "ec40a792-b9ac-4e6c-999a-7e5a1f6bccb3",
   "metadata": {},
   "outputs": [
    {
     "name": "stdout",
     "output_type": "stream",
     "text": [
      "1500\n"
     ]
    }
   ],
   "source": [
    "\n",
    "'''Feature\tAbstraction\tEncapsulation\n",
    "Definition\tHiding implementation details and exposing only functionality.\tWrapping data and methods into a single unit and restricting direct access.\n",
    "Purpose\tFocuses on what an object does rather than how it does it.\tProtects data from unintended access or modification.\n",
    "Implementation\tAchieved using abstract classes and interfaces.\tAchieved using access modifiers (private, protected, public).\n",
    "Example\tAbstract class with unimplemented methods.\tPrivate variables with getter and setter methods.\n",
    "Example of Encapsulation'''\n",
    "\n",
    "class BankAccount:\n",
    "    def __init__(self, balance):\n",
    "        self.__balance = balance  # Private variable\n",
    "\n",
    "    def deposit(self, amount):\n",
    "        self.__balance += amount\n",
    "\n",
    "    def get_balance(self):\n",
    "        return self.__balance\n",
    "\n",
    "# Creating object\n",
    "account = BankAccount(1000)\n",
    "account.deposit(500)\n",
    "print(account.get_balance())  # Output: 1500\n",
    "# print(account.__balance)  # AttributeError: 'BankAccount' object has no attribute '__balance'\n",
    "\n",
    "#Here, __balance is encapsulated, and direct access is restricted.\n"
   ]
  },
  {
   "cell_type": "code",
   "execution_count": null,
   "id": "c2480eeb-4943-4393-be5e-6364275401f3",
   "metadata": {},
   "outputs": [],
   "source": [
    "Q3. What is abc module in Python? Why is it used?"
   ]
  },
  {
   "cell_type": "code",
   "execution_count": null,
   "id": "0df7df6c-2bbf-4e73-841f-63b4605a9d36",
   "metadata": {},
   "outputs": [],
   "source": [
    "The abc (Abstract Base Class) module in Python provides tools for defining abstract classes.\n",
    "\n",
    "It ensures that derived classes implement specific methods.\n",
    "It helps enforce a common interface across different classes.\n",
    "Usage Example"
   ]
  },
  {
   "cell_type": "code",
   "execution_count": 8,
   "id": "d7df8f6f-4e27-4cdb-9566-dcc19805ffdd",
   "metadata": {},
   "outputs": [
    {
     "name": "stdout",
     "output_type": "stream",
     "text": [
      "78.5\n"
     ]
    }
   ],
   "source": [
    "from abc import ABC, abstractmethod\n",
    "\n",
    "class Shape(ABC):  \n",
    "    @abstractmethod\n",
    "    def area(self):\n",
    "        pass\n",
    "\n",
    "class Circle(Shape):  \n",
    "    def __init__(self, radius):\n",
    "        self.radius = radius\n",
    "\n",
    "    def area(self):\n",
    "        return 3.14 * self.radius * self.radius\n",
    "\n",
    "c = Circle(5)\n",
    "print(c.area())  # Output: 78.5\n",
    "#Here, the Shape class ensures that every subclass must implement the area() method."
   ]
  },
  {
   "cell_type": "code",
   "execution_count": null,
   "id": "c0e19a3a-e41c-453f-b902-e78c5e0e5fb8",
   "metadata": {},
   "outputs": [],
   "source": [
    "Q4. How can we achieve data abstraction?"
   ]
  },
  {
   "cell_type": "code",
   "execution_count": null,
   "id": "6f15b46d-a7d7-4397-aeee-92a191ab1aa9",
   "metadata": {},
   "outputs": [],
   "source": [
    "Data abstraction in Python is achieved using:\n",
    "\n",
    "Abstract Classes and Methods (Using abc module)\n",
    "Encapsulation (Using private/protected variables)\n",
    "Example 1: Using Abstract Class"
   ]
  },
  {
   "cell_type": "code",
   "execution_count": 10,
   "id": "4cd09e66-3f05-41c2-b47a-bdd87d576b4e",
   "metadata": {},
   "outputs": [
    {
     "name": "stdout",
     "output_type": "stream",
     "text": [
      "Bark\n"
     ]
    }
   ],
   "source": [
    "from abc import ABC, abstractmethod\n",
    "\n",
    "class Animal(ABC):\n",
    "    @abstractmethod\n",
    "    def make_sound(self):\n",
    "        pass  # Abstract method\n",
    "\n",
    "class Dog(Animal):\n",
    "    def make_sound(self):\n",
    "        return \"Bark\"\n",
    "\n",
    "d = Dog()\n",
    "print(d.make_sound())  # Output: Bark\n",
    "#Here, Animal is abstract, and make_sound() is implemented in Dog."
   ]
  },
  {
   "cell_type": "code",
   "execution_count": 12,
   "id": "122022ca-3dd6-48f9-8da2-80fb78e32570",
   "metadata": {},
   "outputs": [
    {
     "name": "stdout",
     "output_type": "stream",
     "text": [
      "50000\n"
     ]
    }
   ],
   "source": [
    "#Example 2: Using Encapsulation\n",
    "\n",
    "class Employee:\n",
    "    def __init__(self, name, salary):\n",
    "        self.name = name\n",
    "        self.__salary = salary  # Private variable\n",
    "\n",
    "    def get_salary(self):\n",
    "        return self.__salary  # Only accessed via method\n",
    "\n",
    "e = Employee(\"Alice\", 50000)\n",
    "print(e.get_salary())  # Output: 50000\n",
    "# print(e.__salary)  # Error: AttributeError\n",
    "\n",
    "#Here, the salary is abstracted using encapsulation."
   ]
  },
  {
   "cell_type": "code",
   "execution_count": null,
   "id": "73f97b64-d6e6-4a4b-866f-b2d0ef320570",
   "metadata": {},
   "outputs": [],
   "source": [
    "Q5. Can we create an instance of an abstract class? Explain your answer."
   ]
  },
  {
   "cell_type": "code",
   "execution_count": null,
   "id": "fc3d4a2b-da01-449a-8ed2-fee334cc7898",
   "metadata": {},
   "outputs": [],
   "source": [
    "No, we cannot create an instance of an abstract class.\n",
    "\n",
    "An abstract class contains at least one abstract method, which is meant to be overridden by subclasses.\n",
    "If we try to instantiate an abstract class directly, it will raise an error.\n",
    "Example"
   ]
  },
  {
   "cell_type": "code",
   "execution_count": 14,
   "id": "f98a1265-2e03-435d-abde-5be19be9a0eb",
   "metadata": {},
   "outputs": [
    {
     "ename": "TypeError",
     "evalue": "Can't instantiate abstract class Vehicle with abstract method start",
     "output_type": "error",
     "traceback": [
      "\u001b[1;31m---------------------------------------------------------------------------\u001b[0m",
      "\u001b[1;31mTypeError\u001b[0m                                 Traceback (most recent call last)",
      "Cell \u001b[1;32mIn[14], line 9\u001b[0m\n\u001b[0;32m      6\u001b[0m         \u001b[38;5;28;01mpass\u001b[39;00m\n\u001b[0;32m      8\u001b[0m \u001b[38;5;66;03m# Attempt to create an instance\u001b[39;00m\n\u001b[1;32m----> 9\u001b[0m v \u001b[38;5;241m=\u001b[39m Vehicle()\n",
      "\u001b[1;31mTypeError\u001b[0m: Can't instantiate abstract class Vehicle with abstract method start"
     ]
    }
   ],
   "source": [
    "from abc import ABC, abstractmethod\n",
    "\n",
    "class Vehicle(ABC):\n",
    "    @abstractmethod\n",
    "    def start(self):\n",
    "        pass\n",
    "\n",
    "# Attempt to create an instance\n",
    "v = Vehicle()  # TypeError: Can't instantiate abstract class Vehicle with abstract method start\n"
   ]
  },
  {
   "cell_type": "code",
   "execution_count": null,
   "id": "2b670626-31ac-4ddf-8eb7-fc6b234b6130",
   "metadata": {},
   "outputs": [],
   "source": [
    "'''Here, the error occurs because Vehicle is abstract and contains an unimplemented method start().\n",
    "\n",
    "However, we can create instances of its subclasses as long as they implement all abstract methods.\n",
    "\n",
    "Correct Approach'''"
   ]
  },
  {
   "cell_type": "code",
   "execution_count": null,
   "id": "f7233de9-c5ca-4c57-8c37-a6f9225e4bd4",
   "metadata": {},
   "outputs": [],
   "source": [
    "class Car(Vehicle):\n",
    "    def start(self):\n",
    "        print(\"Car starts\")\n",
    "\n",
    "c = Car()  # No error\n",
    "c.start()  # Output: Car starts\n"
   ]
  },
  {
   "cell_type": "code",
   "execution_count": null,
   "id": "c54b85d7-bf8c-4535-ae4a-142497de5cdd",
   "metadata": {},
   "outputs": [],
   "source": []
  },
  {
   "cell_type": "code",
   "execution_count": null,
   "id": "891e2ba0-65c2-4fc0-b221-aeb890fd3b93",
   "metadata": {},
   "outputs": [],
   "source": []
  },
  {
   "cell_type": "code",
   "execution_count": null,
   "id": "bf1276a2-cf22-4cab-a884-f0e5535abd1e",
   "metadata": {},
   "outputs": [],
   "source": []
  },
  {
   "cell_type": "code",
   "execution_count": null,
   "id": "1452bb4b-f1bd-4841-b3f7-ad6893b3fedc",
   "metadata": {},
   "outputs": [],
   "source": []
  },
  {
   "cell_type": "code",
   "execution_count": null,
   "id": "26b7b77c-c7ed-44f8-b241-888983a35acc",
   "metadata": {},
   "outputs": [],
   "source": []
  },
  {
   "cell_type": "code",
   "execution_count": null,
   "id": "c490b303-1a85-4f72-8128-27f66d1e9e33",
   "metadata": {},
   "outputs": [],
   "source": []
  },
  {
   "cell_type": "code",
   "execution_count": null,
   "id": "279e5a59-7a84-4804-9a40-62d5a637f758",
   "metadata": {},
   "outputs": [],
   "source": []
  }
 ],
 "metadata": {
  "kernelspec": {
   "display_name": "Python [conda env:base] *",
   "language": "python",
   "name": "conda-base-py"
  },
  "language_info": {
   "codemirror_mode": {
    "name": "ipython",
    "version": 3
   },
   "file_extension": ".py",
   "mimetype": "text/x-python",
   "name": "python",
   "nbconvert_exporter": "python",
   "pygments_lexer": "ipython3",
   "version": "3.11.5"
  }
 },
 "nbformat": 4,
 "nbformat_minor": 5
}
